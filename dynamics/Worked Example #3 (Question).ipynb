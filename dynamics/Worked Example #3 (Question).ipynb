{
 "cells": [
  {
   "cell_type": "markdown",
   "metadata": {},
   "source": [
    "# Worked Example #3\n",
    "\n",
    "Consider the same structure from Worked Example #2. However, now the structure is subject to a harmonic force with magnitude $P_0 = 600 \\:N$ and a forcing frequency $f = 0.9 \\:Hz$\n",
    "\n",
    "\n",
    "Using this forcing information and the structural information obtained in Worked Example #2:\n",
    "<ol>\n",
    "    <li>Determine the dynamic magnification factor and phase shift between force and response</li>\n",
    "    <li>Plot the complete structural response for the time range, $0\\leq t\\leq 60$</li>\n",
    "    <li>If the harmonic force is removed at $t=11$ s, determine the mass position at $t=30$ s. </li>\n",
    "</ol>\n",
    "<hr>"
   ]
  }
 ],
 "metadata": {
  "kernelspec": {
   "display_name": "Python 3",
   "language": "python",
   "name": "python3"
  },
  "language_info": {
   "codemirror_mode": {
    "name": "ipython",
    "version": 3
   },
   "file_extension": ".py",
   "mimetype": "text/x-python",
   "name": "python",
   "nbconvert_exporter": "python",
   "pygments_lexer": "ipython3",
   "version": "3.6.4"
  }
 },
 "nbformat": 4,
 "nbformat_minor": 2
}
