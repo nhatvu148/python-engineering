{
 "cells": [
  {
   "cell_type": "markdown",
   "metadata": {},
   "source": [
    "# Worked Example #2\n",
    "Consider the lightweight steel frame structure shown below. It supports heavy machinery with a total mass of $m = 10,000\\: kg$. We can neglect the weight of the steel frame. Based on an experimental impact test, the inherent structural damping has been estimated to be 2% ($\\xi=0.02$).\n",
    "\n",
    "A load test has shown that a lateral force of $P=1500\\: N$ induces a lateral displacement of $\\Delta = 7 \\:mm$.\n",
    "\n",
    "The steel frame is constrained such that it can only move laterally (i.e. there is no twisting or significant vertical movement). As such it can be modelled as a SDoF system as shown on the right. \n",
    "\n",
    "![title](img/image_1.png)\n",
    "\n",
    "With this information, determine the following:\n",
    "<ol>\n",
    "    <li>The undamped natural frequency</li>\n",
    "    <li>The damping coefficient</li>\n",
    "    <li>The logarithmic decrement</li>\n",
    "    <li>The damped angular natural frequency</li>\n",
    "    <li>The number of cycles for the amplitude to reduce to 0.001 m</li>\n",
    "    <li>Plot the free vibration response, assuming the structure was released from its initial displacement of 7 mm</li>\n",
    "</ol>     "
   ]
  }
 ],
 "metadata": {
  "kernelspec": {
   "display_name": "Python 3",
   "language": "python",
   "name": "python3"
  },
  "language_info": {
   "codemirror_mode": {
    "name": "ipython",
    "version": 3
   },
   "file_extension": ".py",
   "mimetype": "text/x-python",
   "name": "python",
   "nbconvert_exporter": "python",
   "pygments_lexer": "ipython3",
   "version": "3.6.4"
  }
 },
 "nbformat": 4,
 "nbformat_minor": 2
}
